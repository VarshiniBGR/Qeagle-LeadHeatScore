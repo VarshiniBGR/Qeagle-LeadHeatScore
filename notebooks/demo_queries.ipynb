{
  "cells": [
    {
      "cell_type": "markdown",
      "metadata": {},
      "source": [
        "# Demo Queries for Lead HeatScore\n",
        "\n",
        "Simple JSON examples to test the API\n"
      ]
    },
    {
      "cell_type": "code",
      "execution_count": 1,
      "metadata": {},
      "outputs": [],
      "source": [
        "import requests\n",
        "import json\n",
        "\n",
        "# Test these JSON examples\n"
      ]
    },
    {
      "cell_type": "markdown",
      "metadata": {},
      "source": [
        "## 1. Cold Lead (Risky)\n"
      ]
    },
    {
      "cell_type": "code",
      "execution_count": null,
      "metadata": {},
      "outputs": [
        {
          "name": "stdout",
          "output_type": "stream",
          "text": [
            "Score result: {'lead_id': '4057493424269970695', 'heat_score': 'cold', 'confidence': 0.5478110599078341, 'probabilities': {'cold': 0.5478110599078341, 'warm': 0.4521889400921659, 'hot': 0.0}, 'features_importance': {}, 'created_at': '2025-09-26T16:38:26.944318'}\n"
          ]
        }
      ],
      "source": [
        "cold_lead = {\n",
        "    \"name\": \"John CEO\",\n",
        "    \"email\": \"john.ceo@enterprise.com\",\n",
        "    \"source\": \"cold_call\",\n",
        "    \"recency_days\": 90,\n",
        "    \"region\": \"DE\",\n",
        "    \"role\": \"Clinical Manager\",\n",
        "    \"campaign\": \"enterprise_package\",\n",
        "    \"page_views\": 1,\n",
        "    \"last_touch\": \"phone\",\n",
        "    \"prior_course_interest\": \"low\",\n",
        "    \"search_keywords\": \"enterprise solutions\",\n",
        "    \"time_spent\": 30,\n",
        "    \"course_actions\": \"view_course\",\n",
        "    \"phone\": \"+91-12345-67890\"\n",
        "}\n",
        "\n",
        "# Test scoring\n",
        "response = requests.post(\"http://localhost:8000/score\", json=cold_lead)\n",
        "print(\"Score result:\", response.json())\n"
      ]
    },
    {
      "cell_type": "markdown",
      "metadata": {},
      "source": [
        "## 2. Hot Lead (High Quality)\n"
      ]
    },
    {
      "cell_type": "code",
      "execution_count": null,
      "metadata": {},
      "outputs": [
        {
          "name": "stdout",
          "output_type": "stream",
          "text": [
            "Score result: {'lead_id': '4809448277353225755', 'heat_score': 'hot', 'confidence': 0.5948815009874918, 'probabilities': {'cold': 0.0, 'warm': 0.40511849901250824, 'hot': 0.5948815009874918}, 'features_importance': {}, 'created_at': '2025-09-26T16:38:29.053740'}\n"
          ]
        }
      ],
      "source": [
        "hot_lead = {\n",
        "    \"name\": \"Sarah Manager\",\n",
        "    \"email\": \"sarah.manager@tech.com\",\n",
        "    \"source\": \"linkedin\",\n",
        "    \"recency_days\": 2,\n",
        "    \"region\": \"US\",\n",
        "    \"role\": \"Business Manager\",\n",
        "    \"campaign\": \"enterprise_demo\",\n",
        "    \"page_views\": 45,\n",
        "    \"last_touch\": \"demo\",\n",
        "    \"prior_course_interest\": \"high\",\n",
        "    \"search_keywords\": \"business intelligence, analytics\",\n",
        "    \"time_spent\": 1200,\n",
        "    \"course_actions\": \"book_demo,download_brochure\",\n",
        "    \"phone\": \"+91-98765-43210\"\n",
        "}\n",
        "\n",
        "# Test scoring\n",
        "response = requests.post(\"http://localhost:8000/score\", json=hot_lead)\n",
        "print(\"Score result:\", response.json())\n"
      ]
    },
    {
      "cell_type": "markdown",
      "metadata": {},
      "source": [
        "## 3. Warm Lead (Medium Quality)\n"
      ]
    },
    {
      "cell_type": "code",
      "execution_count": 4,
      "metadata": {},
      "outputs": [
        {
          "name": "stdout",
          "output_type": "stream",
          "text": [
            "Score result: {'lead_id': '2014120750671389064', 'heat_score': 'warm', 'confidence': 0.6283867870911614, 'probabilities': {'cold': 0.3328330457103327, 'warm': 0.6283867870911614, 'hot': 0.03878016719850589}, 'features_importance': {}, 'created_at': '2025-09-26T16:38:29.216287'}\n"
          ]
        }
      ],
      "source": [
        "warm_lead = {\n",
        "    \"name\": \"Mike Analyst\",\n",
        "    \"email\": \"mike.analyst@corp.com\",\n",
        "    \"source\": \"webinar\",\n",
        "    \"recency_days\": 15,\n",
        "    \"region\": \"UK\",\n",
        "    \"role\": \"Data Analyst\",\n",
        "    \"campaign\": \"webinar_series\",\n",
        "    \"page_views\": 12,\n",
        "    \"last_touch\": \"email\",\n",
        "    \"prior_course_interest\": \"medium\",\n",
        "    \"search_keywords\": \"data analysis, statistics\",\n",
        "    \"time_spent\": 450,\n",
        "    \"course_actions\": \"register_interest\",\n",
        "    \"phone\": \"+91-55555-12345\"\n",
        "}\n",
        "\n",
        "# Test scoring\n",
        "response = requests.post(\"http://127.0.0.1:8000/api/v1/score\", json=warm_lead)\n",
        "print(\"Score result:\", response.json())\n"
      ]
    },
    {
      "cell_type": "markdown",
      "metadata": {},
      "source": [
        "## 4. Test Recommendations\n"
      ]
    },
    {
      "cell_type": "code",
      "execution_count": null,
      "metadata": {},
      "outputs": [
        {
          "name": "stdout",
          "output_type": "stream",
          "text": [
            "Cold lead recommendation: {'detail': \"'Recommendation' object has no attribute 'message'\"}\n",
            "Hot lead recommendation: {'detail': \"'Recommendation' object has no attribute 'message'\"}\n"
          ]
        }
      ],
      "source": [
        "# Test recommendation for cold lead\n",
        "response = requests.post(\"http://localhost:8000/recommend\", json=cold_lead)\n",
        "print(\"Cold lead recommendation:\", response.json())\n",
        "\n",
        "# Test recommendation for hot lead  \n",
        "response = requests.post(\"http://localhost:8000/recommend\", json=hot_lead)\n",
        "print(\"Hot lead recommendation:\", response.json())\n"
      ]
    },
    {
      "cell_type": "markdown",
      "metadata": {},
      "source": []
    }
  ],
  "metadata": {
    "kernelspec": {
      "display_name": "Python 3",
      "language": "python",
      "name": "python3"
    },
    "language_info": {
      "codemirror_mode": {
        "name": "ipython",
        "version": 3
      },
      "file_extension": ".py",
      "mimetype": "text/x-python",
      "name": "python",
      "nbconvert_exporter": "python",
      "pygments_lexer": "ipython3",
      "version": "3.11.9"
    }
  },
  "nbformat": 4,
  "nbformat_minor": 2
}
